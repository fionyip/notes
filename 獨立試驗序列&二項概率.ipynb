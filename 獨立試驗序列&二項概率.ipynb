{
 "cells": [
  {
   "cell_type": "markdown",
   "metadata": {},
   "source": [
    "# 獨立試驗序列\n",
    "\n",
    "用在計算不是\"是\",就是\"非\"的場合計算使用\n",
    "\n",
    "n次拋硬幣中k次為正面的概率:\n",
    "\n",
    "$$\n",
    "\n",
    "\\begin{align}\n",
    "P(k)=\\left  \\binom{n}{k} \\right p^{k} (1-p)^{n-k}\n",
    "\\end{align}\n",
    "\n",
    "$$\n",
    "\n",
    "\n",
    "以上引申出二項公式\n",
    "\n",
    "將所有可能性加起來,就是二項公式\n",
    "$$\n",
    "\n",
    "\\begin{align}\n",
    "\\sum_{k=0}^{n}\\left  \\binom{n}{k} \\right p^{k} (1-p)^{n-k}\n",
    "\\end{align}\n",
    "\n",
    "$$"
   ]
  },
  {
   "cell_type": "code",
   "execution_count": null,
   "metadata": {},
   "outputs": [],
   "source": []
  }
 ],
 "metadata": {
  "kernelspec": {
   "display_name": "Python 3",
   "language": "python",
   "name": "python3"
  },
  "language_info": {
   "codemirror_mode": {
    "name": "ipython",
    "version": 3
   },
   "file_extension": ".py",
   "mimetype": "text/x-python",
   "name": "python",
   "nbconvert_exporter": "python",
   "pygments_lexer": "ipython3",
   "version": "3.6.7rc1"
  }
 },
 "nbformat": 4,
 "nbformat_minor": 2
}
