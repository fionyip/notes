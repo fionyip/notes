{
 "cells": [
  {
   "cell_type": "markdown",
   "metadata": {},
   "source": [
    "# 全概率定理及貝葉斯準則"
   ]
  },
  {
   "cell_type": "markdown",
   "metadata": {},
   "source": [
    "## 全概率定理\n",
    "\n",
    "A1到An到是互斥事件,對於任何一件事的B,以下公式成立\n",
    "$$\n",
    "P(B)=P(A_{1}\\cap B)+... + P(A_{n}\\cap B)\n",
    "    =P(A_{1})P(B|A_{1})+... + P(A_{n})P(B|A_{n})\n",
    "$$\n",
    "\n",
    "*有一事件A,一事件B,求B時,這個公式最為好用*"
   ]
  },
  {
   "cell_type": "markdown",
   "metadata": {},
   "source": [
    "## 貝葉斯準則\n",
    "\n",
    "就是將全概率的公式轉一下,由P(A|B)中找到P(B|A)\n",
    "$$\n",
    "P(A_{i}|B)=\\frac{P(A_{i}\\cap B)}{P(B)}\n",
    "          =\\frac{P(A_{i})P(B|A_{i})}{P(B)}\n",
    "          = \\frac{P(A_{i})P(B|A_{i})}{P(A_{1})P(B|A_{1})+... + P(A_{n})P(B|A_{n})}\n",
    "$$"
   ]
  },
  {
   "cell_type": "code",
   "execution_count": null,
   "metadata": {},
   "outputs": [],
   "source": []
  }
 ],
 "metadata": {
  "kernelspec": {
   "display_name": "Python 3",
   "language": "python",
   "name": "python3"
  },
  "language_info": {
   "codemirror_mode": {
    "name": "ipython",
    "version": 3
   },
   "file_extension": ".py",
   "mimetype": "text/x-python",
   "name": "python",
   "nbconvert_exporter": "python",
   "pygments_lexer": "ipython3",
   "version": "3.6.7rc1"
  }
 },
 "nbformat": 4,
 "nbformat_minor": 2
}
